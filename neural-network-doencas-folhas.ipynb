{
  "nbformat": 4,
  "nbformat_minor": 0,
  "metadata": {
    "colab": {
      "name": "reconhecimento_plantas.ipynb",
      "provenance": [],
      "collapsed_sections": [],
      "toc_visible": true,
      "machine_shape": "hm"
    },
    "kernelspec": {
      "name": "python3",
      "display_name": "Python 3"
    }
  },
  "cells": [
    {
      "cell_type": "markdown",
      "metadata": {
        "id": "N_7zYYS2bj-z",
        "colab_type": "text"
      },
      "source": [
        "# Classificação de Imagens com Redes Neurais\n"
      ]
    },
    {
      "cell_type": "markdown",
      "metadata": {
        "id": "_M-TKHCLOmOk",
        "colab_type": "text"
      },
      "source": [
        "É importante lembrar que toda solução emerge a partir de um problema identificado. Podemos pensar na seguinte situação: Sofia tem uma orta no seu quintal com várias plantas, mas não tem tempo de olhar sempre se todas estão saudáveis. Então, depois de aprender na escola sobre inteligência artificial, ela teve a ideia de criar uma rede neural identificar se a planta estava doente ou saudável usando a mesma percepção que ela tinha para tomar essa decisão, que era olhar se havia manchas nas folhas. Durante 2 meses ela tirou fotos da folhas saudáveis e das folhas doentes e usou essas imagens para treinar a rede neural. Ela então usou essa rede neural treinada, junto com uma câmera instalada na orta para criar o sistema de monitoramento.\n",
        "\n",
        "Ela percebeu que o sistema além de ajudar a monitorar quando ela estivesse ocupada, ele identifica muito antes do que ela o aparecimento das manchas nas folhas. Agora vamos implementar essse sistema usando a linguagem de programação Python e o Tensorflow."
      ]
    },
    {
      "cell_type": "markdown",
      "metadata": {
        "id": "GtI-rdfObs6S",
        "colab_type": "text"
      },
      "source": [
        "#### Conectar com a pasta do google drive"
      ]
    },
    {
      "cell_type": "code",
      "metadata": {
        "id": "_pj6g3gfby5H",
        "colab_type": "code",
        "outputId": "33c67acd-eba2-4487-eff7-50c50861174c",
        "colab": {
          "base_uri": "https://localhost:8080/",
          "height": 128
        }
      },
      "source": [
        "from google.colab import drive\n",
        "drive.mount('/content/drive')"
      ],
      "execution_count": 1,
      "outputs": [
        {
          "output_type": "stream",
          "text": [
            "Go to this URL in a browser: https://accounts.google.com/o/oauth2/auth?client_id=947318989803-6bn6qk8qdgf4n4g3pfee6491hc0brc4i.apps.googleusercontent.com&redirect_uri=urn%3aietf%3awg%3aoauth%3a2.0%3aoob&response_type=code&scope=email%20https%3a%2f%2fwww.googleapis.com%2fauth%2fdocs.test%20https%3a%2f%2fwww.googleapis.com%2fauth%2fdrive%20https%3a%2f%2fwww.googleapis.com%2fauth%2fdrive.photos.readonly%20https%3a%2f%2fwww.googleapis.com%2fauth%2fpeopleapi.readonly\n",
            "\n",
            "Enter your authorization code:\n",
            "··········\n",
            "Mounted at /content/drive\n"
          ],
          "name": "stdout"
        }
      ]
    },
    {
      "cell_type": "markdown",
      "metadata": {
        "id": "PAikljuxK1xn",
        "colab_type": "text"
      },
      "source": [
        "#### Importar pacotes"
      ]
    },
    {
      "cell_type": "code",
      "metadata": {
        "id": "NlT4Yo1SK5tq",
        "colab_type": "code",
        "colab": {}
      },
      "source": [
        "# import packages\n",
        "import pandas as pd\n",
        "import numpy as np\n",
        "import matplotlib.pyplot as plt\n",
        "import os\n",
        "import cv2\n",
        "import random\n",
        "import pickle \n",
        "import tensorflow as tf "
      ],
      "execution_count": 0,
      "outputs": []
    },
    {
      "cell_type": "markdown",
      "metadata": {
        "id": "10xDyMM3mgd5",
        "colab_type": "text"
      },
      "source": [
        "## Pré-processamento"
      ]
    },
    {
      "cell_type": "code",
      "metadata": {
        "id": "CAThDxYkmizC",
        "colab_type": "code",
        "colab": {}
      },
      "source": [
        "def importarPlantas(caminho, classificacao):\n",
        "  ''' funcao importarPlantas\n",
        "      caminho: caminho ate a pasta das imagens\n",
        "      classificacao: acesso a subpasta 'doentes' ou 'saudaveis'\n",
        "  '''\n",
        "  # ler imagens na pasta\n",
        "  imagens = os.listdir(caminho+classificacao)\n",
        "  # loop para importar e preprocessar imagens\n",
        "  caracteristicas=[]\n",
        "  for imagem in imagens:\n",
        "    img_array = cv2.imread(caminho+classificacao+'/'+imagem, cv2.IMREAD_GRAYSCALE) # ler arquivo em escala de cinza\n",
        "    img_array = cv2.resize(img_array, (100,150), interpolation = cv2.INTER_AREA) # reduzir tamanho da imagem\n",
        "    img_array = tf.keras.utils.normalize(img_array, axis=1) # normalizar array\n",
        "    img_array = img_array.reshape(-1)        \n",
        "    caracteristicas.append(img_array)\n",
        "  # criar lista do alvo\n",
        "  if classificacao == 'doentes':\n",
        "    alvo = [1]*len(caracteristicas)\n",
        "  elif classificacao == 'saudaveis':\n",
        "    alvo = [0]*len(caracteristicas)\n",
        "  # retornar valores\n",
        "  return alvo, caracteristicas"
      ],
      "execution_count": 0,
      "outputs": []
    },
    {
      "cell_type": "code",
      "metadata": {
        "id": "d_6rw9LCmkYc",
        "colab_type": "code",
        "colab": {}
      },
      "source": [
        "# importar imagens\n",
        "caminho = '/content/drive/My Drive/Projetos/Proj-Extensao-Programacao-IA-2020/Apresentacoes/Material-Aulas/Aula-3-Classificacao-RNA--Claudio-Estela-Gustavo/imagens_plantas/manga/'\n",
        "doentes_alvo, doentes = importarPlantas(caminho, 'doentes')"
      ],
      "execution_count": 0,
      "outputs": []
    },
    {
      "cell_type": "code",
      "metadata": {
        "id": "y5dbReOQpAC2",
        "colab_type": "code",
        "colab": {}
      },
      "source": [
        "saudaveis_alvo, saudaveis = importarPlantas(caminho, 'saudaveis')"
      ],
      "execution_count": 0,
      "outputs": []
    },
    {
      "cell_type": "code",
      "metadata": {
        "id": "SybTABN9a1IW",
        "colab_type": "code",
        "colab": {}
      },
      "source": [
        "# combinar doentes e saudaveis\n",
        "import numpy as np\n",
        "alvo =  np.asarray(doentes_alvo + saudaveis_alvo)\n",
        "caracteristicas =  np.asarray(doentes + saudaveis)"
      ],
      "execution_count": 0,
      "outputs": []
    },
    {
      "cell_type": "code",
      "metadata": {
        "id": "bCastjUoa1v0",
        "colab_type": "code",
        "colab": {}
      },
      "source": [
        "# dividir em teste e treinamento\n",
        "from sklearn.model_selection import train_test_split\n",
        "caracteristicas_treino, caracteristicas_teste, alvo_treino, alvo_test = train_test_split(caracteristicas, alvo, test_size=0.2, random_state=89)"
      ],
      "execution_count": 0,
      "outputs": []
    },
    {
      "cell_type": "code",
      "metadata": {
        "id": "fSD5QBKTVnjo",
        "colab_type": "code",
        "colab": {
          "base_uri": "https://localhost:8080/",
          "height": 35
        },
        "outputId": "ec494408-b576-4467-e055-2b5d5d92aa81"
      },
      "source": [
        "caracteristicas.shape"
      ],
      "execution_count": 8,
      "outputs": [
        {
          "output_type": "execute_result",
          "data": {
            "text/plain": [
              "(370, 15000)"
            ]
          },
          "metadata": {
            "tags": []
          },
          "execution_count": 8
        }
      ]
    },
    {
      "cell_type": "markdown",
      "metadata": {
        "id": "7POypSaymkxA",
        "colab_type": "text"
      },
      "source": [
        "# Construção da Rede Neural"
      ]
    },
    {
      "cell_type": "markdown",
      "metadata": {
        "id": "BczqpbWFnb40",
        "colab_type": "text"
      },
      "source": [
        "#### Camadas"
      ]
    },
    {
      "cell_type": "code",
      "metadata": {
        "id": "Q7nocbsMmnud",
        "colab_type": "code",
        "colab": {
          "base_uri": "https://localhost:8080/",
          "height": 380
        },
        "outputId": "a481b8e1-68e1-4178-9b23-44aa1b1dc256"
      },
      "source": [
        "import keras\n",
        "\n",
        "model = keras.models.Sequential()\n",
        "model.add(keras.layers.core.Dense(512, input_shape=tuple([caracteristicas.shape[1]]), activation='relu'))\n",
        "model.add(keras.layers.core.Dense(360, activation='relu'))\n",
        "model.add(keras.layers.core.Dense(360, activation='relu'))\n",
        "model.add(keras.layers.core.Dense(64, activation='relu'))\n",
        "model.add(keras.layers.core.Dense(2,   activation='softmax'))\n",
        "model.compile(loss=\"sparse_categorical_crossentropy\", optimizer=\"adam\",metrics=[\"accuracy\"])\n",
        "\n",
        "print(model.summary())"
      ],
      "execution_count": 9,
      "outputs": [
        {
          "output_type": "stream",
          "text": [
            "Using TensorFlow backend.\n"
          ],
          "name": "stderr"
        },
        {
          "output_type": "stream",
          "text": [
            "Model: \"sequential_1\"\n",
            "_________________________________________________________________\n",
            "Layer (type)                 Output Shape              Param #   \n",
            "=================================================================\n",
            "dense_1 (Dense)              (None, 512)               7680512   \n",
            "_________________________________________________________________\n",
            "dense_2 (Dense)              (None, 360)               184680    \n",
            "_________________________________________________________________\n",
            "dense_3 (Dense)              (None, 360)               129960    \n",
            "_________________________________________________________________\n",
            "dense_4 (Dense)              (None, 64)                23104     \n",
            "_________________________________________________________________\n",
            "dense_5 (Dense)              (None, 2)                 130       \n",
            "=================================================================\n",
            "Total params: 8,018,386\n",
            "Trainable params: 8,018,386\n",
            "Non-trainable params: 0\n",
            "_________________________________________________________________\n",
            "None\n"
          ],
          "name": "stdout"
        }
      ]
    },
    {
      "cell_type": "markdown",
      "metadata": {
        "id": "xNs5N-xhnjRe",
        "colab_type": "text"
      },
      "source": [
        "#### Treinar Testar o modelo"
      ]
    },
    {
      "cell_type": "code",
      "metadata": {
        "id": "O3mTkfYmnmpS",
        "colab_type": "code",
        "colab": {
          "base_uri": "https://localhost:8080/",
          "height": 1000
        },
        "outputId": "35e34ce6-f462-4ef8-ac55-4733bbd7a92b"
      },
      "source": [
        "# train\n",
        "model.fit(caracteristicas_treino, alvo_treino, epochs=30)"
      ],
      "execution_count": 10,
      "outputs": [
        {
          "output_type": "stream",
          "text": [
            "Epoch 1/30\n",
            "296/296 [==============================] - 1s 3ms/step - loss: 0.8166 - accuracy: 0.5236\n",
            "Epoch 2/30\n",
            "296/296 [==============================] - 1s 2ms/step - loss: 0.7233 - accuracy: 0.5169\n",
            "Epoch 3/30\n",
            "296/296 [==============================] - 1s 2ms/step - loss: 0.7079 - accuracy: 0.5236\n",
            "Epoch 4/30\n",
            "296/296 [==============================] - 1s 2ms/step - loss: 0.7169 - accuracy: 0.5304\n",
            "Epoch 5/30\n",
            "296/296 [==============================] - 1s 2ms/step - loss: 0.6674 - accuracy: 0.6014\n",
            "Epoch 6/30\n",
            "296/296 [==============================] - 1s 2ms/step - loss: 0.6996 - accuracy: 0.5676\n",
            "Epoch 7/30\n",
            "296/296 [==============================] - 1s 2ms/step - loss: 0.6302 - accuracy: 0.6622\n",
            "Epoch 8/30\n",
            "296/296 [==============================] - 1s 2ms/step - loss: 0.6795 - accuracy: 0.5676\n",
            "Epoch 9/30\n",
            "296/296 [==============================] - 1s 2ms/step - loss: 0.6239 - accuracy: 0.6791\n",
            "Epoch 10/30\n",
            "296/296 [==============================] - 1s 2ms/step - loss: 0.6974 - accuracy: 0.5304\n",
            "Epoch 11/30\n",
            "296/296 [==============================] - 1s 2ms/step - loss: 0.6195 - accuracy: 0.7027\n",
            "Epoch 12/30\n",
            "296/296 [==============================] - 1s 2ms/step - loss: 0.5501 - accuracy: 0.7703\n",
            "Epoch 13/30\n",
            "296/296 [==============================] - 1s 2ms/step - loss: 0.5974 - accuracy: 0.6757\n",
            "Epoch 14/30\n",
            "296/296 [==============================] - 1s 2ms/step - loss: 0.5495 - accuracy: 0.7196\n",
            "Epoch 15/30\n",
            "296/296 [==============================] - 1s 2ms/step - loss: 0.5291 - accuracy: 0.7635\n",
            "Epoch 16/30\n",
            "296/296 [==============================] - 1s 2ms/step - loss: 0.4805 - accuracy: 0.8108\n",
            "Epoch 17/30\n",
            "296/296 [==============================] - 1s 2ms/step - loss: 0.4202 - accuracy: 0.8074\n",
            "Epoch 18/30\n",
            "296/296 [==============================] - 1s 2ms/step - loss: 0.5908 - accuracy: 0.7264\n",
            "Epoch 19/30\n",
            "296/296 [==============================] - 1s 2ms/step - loss: 0.4473 - accuracy: 0.7939\n",
            "Epoch 20/30\n",
            "296/296 [==============================] - 1s 2ms/step - loss: 0.5027 - accuracy: 0.7635\n",
            "Epoch 21/30\n",
            "296/296 [==============================] - 1s 2ms/step - loss: 0.4368 - accuracy: 0.8345\n",
            "Epoch 22/30\n",
            "296/296 [==============================] - 1s 2ms/step - loss: 0.4992 - accuracy: 0.7534\n",
            "Epoch 23/30\n",
            "296/296 [==============================] - 1s 2ms/step - loss: 0.4292 - accuracy: 0.7939\n",
            "Epoch 24/30\n",
            "296/296 [==============================] - 1s 2ms/step - loss: 0.4811 - accuracy: 0.7601\n",
            "Epoch 25/30\n",
            "296/296 [==============================] - 1s 2ms/step - loss: 0.5123 - accuracy: 0.7669\n",
            "Epoch 26/30\n",
            "296/296 [==============================] - 1s 2ms/step - loss: 0.4341 - accuracy: 0.8108\n",
            "Epoch 27/30\n",
            "296/296 [==============================] - 1s 2ms/step - loss: 0.4265 - accuracy: 0.8041\n",
            "Epoch 28/30\n",
            "296/296 [==============================] - 1s 2ms/step - loss: 0.4094 - accuracy: 0.8209\n",
            "Epoch 29/30\n",
            "296/296 [==============================] - 1s 2ms/step - loss: 0.3980 - accuracy: 0.8108\n",
            "Epoch 30/30\n",
            "296/296 [==============================] - 1s 2ms/step - loss: 0.4377 - accuracy: 0.8074\n"
          ],
          "name": "stdout"
        },
        {
          "output_type": "execute_result",
          "data": {
            "text/plain": [
              "<keras.callbacks.callbacks.History at 0x7f2108086e48>"
            ]
          },
          "metadata": {
            "tags": []
          },
          "execution_count": 10
        }
      ]
    },
    {
      "cell_type": "code",
      "metadata": {
        "id": "C3vuDwbH23jX",
        "colab_type": "code",
        "colab": {
          "base_uri": "https://localhost:8080/",
          "height": 53
        },
        "outputId": "9c10ee17-8fe2-4cbf-ebaa-8bdc6b3322c3"
      },
      "source": [
        "## avaliar\n",
        "val_loss, val_acc = model.evaluate(caracteristicas_teste, alvo_test)\n",
        "\n",
        "print(val_loss, val_acc)"
      ],
      "execution_count": 11,
      "outputs": [
        {
          "output_type": "stream",
          "text": [
            "74/74 [==============================] - 0s 622us/step\n",
            "0.4398724758947218 0.7972972989082336\n"
          ],
          "name": "stdout"
        }
      ]
    }
  ]
}